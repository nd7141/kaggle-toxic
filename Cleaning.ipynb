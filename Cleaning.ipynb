{
 "cells": [
  {
   "cell_type": "code",
   "execution_count": 1,
   "metadata": {
    "collapsed": true
   },
   "outputs": [],
   "source": [
    "import numpy as np\n",
    "import pandas as pd"
   ]
  },
  {
   "cell_type": "code",
   "execution_count": 2,
   "metadata": {
    "collapsed": true
   },
   "outputs": [],
   "source": [
    "import re\n",
    "import string\n",
    "import os"
   ]
  },
  {
   "cell_type": "code",
   "execution_count": 43,
   "metadata": {
    "collapsed": true
   },
   "outputs": [],
   "source": [
    "trainPath = 'data/train.csv'\n",
    "testPath = 'data/test.csv'"
   ]
  },
  {
   "cell_type": "code",
   "execution_count": 44,
   "metadata": {
    "collapsed": true
   },
   "outputs": [],
   "source": [
    "df = pd.read_csv(trainPath)"
   ]
  },
  {
   "cell_type": "code",
   "execution_count": 45,
   "metadata": {
    "collapsed": true
   },
   "outputs": [],
   "source": [
    "# cleaning data: https://www.kaggle.com/mehtasaransh/cleaning-the-given-data\n",
    "totalContentCleaned = []\n",
    "punctDict = {}\n",
    "for punct in string.punctuation:\n",
    "    punctDict[punct] = None\n",
    "transString = str.maketrans(punctDict)\n",
    "# since we intent to remove any punctuation with ''\n",
    "for sen in df['comment_text']:\n",
    "    p = sen.translate(transString).replace('\\n', ' ')\n",
    "    p = re.sub(' +',' ', p).lower() # lowercase all words/replace multiple spaces with one. \n",
    "    totalContentCleaned.append(p)\n",
    "df['comment_text'] = totalContentCleaned\n",
    "df.to_csv('data/train_clean.csv', index=False, encoding='utf-8')"
   ]
  },
  {
   "cell_type": "code",
   "execution_count": 49,
   "metadata": {},
   "outputs": [],
   "source": [
    "df = pd.read_csv(testPath)"
   ]
  },
  {
   "cell_type": "code",
   "execution_count": 51,
   "metadata": {},
   "outputs": [],
   "source": [
    "# cleaning data: https://www.kaggle.com/mehtasaransh/cleaning-the-given-data\n",
    "totalContentCleaned = []\n",
    "punctDict = {}\n",
    "for punct in string.punctuation:\n",
    "    punctDict[punct] = None\n",
    "transString = str.maketrans(punctDict)\n",
    "# since we intent to remove any punctuation with ''\n",
    "for sen in df['comment_text']:\n",
    "    p = sen.translate(transString).replace('\\n', ' ')\n",
    "    p = re.sub(' +',' ', p).lower() # lowercase all words/replace multiple spaces with one. \n",
    "    totalContentCleaned.append(p)\n",
    "df['comment_text'] = totalContentCleaned\n",
    "df.to_csv('data/test_clean2.csv', index=False, encoding='utf-8')"
   ]
  },
  {
   "cell_type": "code",
   "execution_count": 47,
   "metadata": {},
   "outputs": [],
   "source": [
    "df = pd.read_csv('data/train_clean.csv')"
   ]
  },
  {
   "cell_type": "code",
   "execution_count": 42,
   "metadata": {},
   "outputs": [
    {
     "data": {
      "text/plain": [
       "0         explanation why the edits made under my userna...\n",
       "1         daww he matches this background colour im seem...\n",
       "2         hey man im really not trying to edit war its j...\n",
       "3          more i cant make any real suggestions on impr...\n",
       "4         you sir are my hero any chance you remember wh...\n",
       "5          congratulations from me as well use the tools...\n",
       "6              cocksucker before you piss around on my work\n",
       "7         your vandalism to the matt shirvington article...\n",
       "8         sorry if the word nonsense was offensive to yo...\n",
       "9         alignment on this subject and which are contra...\n",
       "10         fair use rationale for imagewonjujpg thanks f...\n",
       "11        bbq be a man and lets discuss itmaybe over the...\n",
       "12        hey what is it talk what is it an exclusive gr...\n",
       "13        before you start throwing accusations and warn...\n",
       "14        oh and the girl above started her arguments wi...\n",
       "15         juelz santanas age in 2002 juelz santana was ...\n",
       "16        bye dont look come or think of comming back to...\n",
       "17           redirect talkvoydan pop georgiev chernodrinski\n",
       "18        the mitsurugi point made no sense why not argu...\n",
       "19        dont mean to bother you i see that youre writi...\n",
       "20         regarding your recent edits once again please...\n",
       "21         good to know about me yeah im studying nowdeepu \n",
       "22         snowflakes are not always symmetrical under g...\n",
       "23         the signpost 24 september 2012 read this sign...\n",
       "24         reconsidering 1st paragraph edit i dont under...\n",
       "25        radial symmetry several now extinct lineages i...\n",
       "26        theres no need to apologize a wikipedia articl...\n",
       "27        yes because the mother of the child in the cas...\n",
       "28         ok but it will take a bit of work but i cant ...\n",
       "29         a barnstar for you the real life barnstar let...\n",
       "                                ...                        \n",
       "159541    your absurd edits your absurd edits on great w...\n",
       "159542    maybe hes got better things to do than spend a...\n",
       "159543    scrap that it does meet criteria and its gone ...\n",
       "159544                                   you could do worse\n",
       "159545     7 march 2011 utc are you also userbmattson wh...\n",
       "159546     hey listen dont you ever delete my edits ever...\n",
       "159547                          thank you very very much ·?\n",
       "159548                           talkback 15 september 2012\n",
       "159549                                 2005 utc 0635 31 mar\n",
       "159550    i agree on another note lil wayne is a talentl...\n",
       "159551    while about half the references are from byui ...\n",
       "159552    prague spring i think that prague spring deser...\n",
       "159553    i see this as having been merged undoing one s...\n",
       "159554    and im going to keep posting the stuff u delet...\n",
       "159555     how come when you download that mp3 its title...\n",
       "159556    ill be on irc too if you have a more specific ...\n",
       "159557    it is my opinion that that happens to be offto...\n",
       "159558    please stop removing content from wikipedia it...\n",
       "159559    imagebarackobamamotherjpg listed for deletion ...\n",
       "159560    editing of article without consensus removal o...\n",
       "159561     no he did not read it again i would have thou...\n",
       "159562     auto guides and the motoring press are not go...\n",
       "159563     please identify what part of blp applies beca...\n",
       "159564    catalan independentism is the social movement ...\n",
       "159565    the numbers in parentheses are the additional ...\n",
       "159566    and for the second time of asking when your vi...\n",
       "159567    you should be ashamed of yourself that is a ho...\n",
       "159568    spitzer umm theres no actual article for prost...\n",
       "159569    and it looks like it was actually you who put ...\n",
       "159570     and i really dont think you understand i came...\n",
       "Name: comment_text, Length: 159571, dtype: object"
      ]
     },
     "execution_count": 42,
     "metadata": {},
     "output_type": "execute_result"
    }
   ],
   "source": [
    "df['comment_text']"
   ]
  },
  {
   "cell_type": "code",
   "execution_count": null,
   "metadata": {
    "collapsed": true
   },
   "outputs": [],
   "source": []
  }
 ],
 "metadata": {
  "kernelspec": {
   "display_name": "Python 3",
   "language": "python",
   "name": "python3"
  },
  "language_info": {
   "codemirror_mode": {
    "name": "ipython",
    "version": 3
   },
   "file_extension": ".py",
   "mimetype": "text/x-python",
   "name": "python",
   "nbconvert_exporter": "python",
   "pygments_lexer": "ipython3",
   "version": "3.6.1"
  }
 },
 "nbformat": 4,
 "nbformat_minor": 2
}
